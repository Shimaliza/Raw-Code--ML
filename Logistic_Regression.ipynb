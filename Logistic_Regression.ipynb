{
  "nbformat": 4,
  "nbformat_minor": 0,
  "metadata": {
    "colab": {
      "provenance": [],
      "authorship_tag": "ABX9TyPT5scUfgDqnBg9e10HEek7",
      "include_colab_link": true
    },
    "kernelspec": {
      "name": "python3",
      "display_name": "Python 3"
    },
    "language_info": {
      "name": "python"
    }
  },
  "cells": [
    {
      "cell_type": "markdown",
      "metadata": {
        "id": "view-in-github",
        "colab_type": "text"
      },
      "source": [
        "<a href=\"https://colab.research.google.com/github/Shimaliza/Raw-Code--ML/blob/main/Logistic_Regression.ipynb\" target=\"_parent\"><img src=\"https://colab.research.google.com/assets/colab-badge.svg\" alt=\"Open In Colab\"/></a>"
      ]
    },
    {
      "cell_type": "code",
      "execution_count": null,
      "metadata": {
        "id": "Y7dtZesYkj8A"
      },
      "outputs": [],
      "source": [
        "Logistic Regression\n",
        "Importing the libraries"
      ]
    },
    {
      "cell_type": "code",
      "source": [
        "import numpy as np\n",
        "import matplotlib.pyplot as plt\n",
        "import pandas as pd"
      ],
      "metadata": {
        "id": "yAuA484hk7xI"
      },
      "execution_count": null,
      "outputs": []
    },
    {
      "cell_type": "markdown",
      "source": [
        "Importing the dataset"
      ],
      "metadata": {
        "id": "po_gR328lA83"
      }
    },
    {
      "cell_type": "code",
      "source": [
        "dataset = pd.read_csv(\"filename.csv\")\n",
        "x = dataset[:, :-1].values\n",
        "y = dataset[:,-1].values"
      ],
      "metadata": {
        "id": "2AwCiV7ilBmO"
      },
      "execution_count": null,
      "outputs": []
    },
    {
      "cell_type": "markdown",
      "source": [
        "Splitting the dataset into train_set and test _set"
      ],
      "metadata": {
        "id": "1dTt8UowlHJW"
      }
    },
    {
      "cell_type": "code",
      "source": [
        "from sklearn.model_selection import train_test_split\n",
        "x_train, x_test, y_train, y_test = train_test_split(x,y, test_size = 0.25, random_state = 1)\n",
        "print(x_train)\n",
        "print(y_train)\n",
        "print(x_test)\n",
        "print(y_test)"
      ],
      "metadata": {
        "id": "bAcmh8p4leVZ"
      },
      "execution_count": null,
      "outputs": []
    },
    {
      "cell_type": "markdown",
      "source": [
        "Feature Scaling\n",
        "For logestic regression it is not necessary to do feature scaling but we do it because our the densitiy of our data is low."
      ],
      "metadata": {
        "id": "gSaNIPg8l_yv"
      }
    },
    {
      "cell_type": "code",
      "source": [
        "from sklearn.preprocessing import StandardScaler\n",
        "sc = StandardScaler()\n",
        "x_train = sc.fit_transform(x_train)\n",
        "x_test = sc.fit_transform(x_test)\n",
        "print(x_train)\n",
        "print(x_test)"
      ],
      "metadata": {
        "id": "2d4dl-5fmAgO"
      },
      "execution_count": null,
      "outputs": []
    },
    {
      "cell_type": "markdown",
      "source": [
        "Training the logistic regression "
      ],
      "metadata": {
        "id": "wkhdFCA-n6WP"
      }
    },
    {
      "cell_type": "code",
      "source": [
        "from sklearn.linear_model import LogisticRegression\n",
        "classifier = LogisticRegression(random_state=0)\n",
        "classifier.fit(x_train, y_train)\n"
      ],
      "metadata": {
        "id": "108TxEFCoCG_"
      },
      "execution_count": null,
      "outputs": []
    },
    {
      "cell_type": "markdown",
      "source": [
        " Predicting a new result\n",
        "\n",
        " a person who is 30 years old and earns 87000 dollars"
      ],
      "metadata": {
        "id": "voFKnApip8oG"
      }
    },
    {
      "cell_type": "code",
      "source": [
        "print(classifer.predict(sc.transform[[30, 87000]]))"
      ],
      "metadata": {
        "id": "mhq0ahjOqA9t"
      },
      "execution_count": null,
      "outputs": []
    },
    {
      "cell_type": "markdown",
      "source": [
        "Predicting the test set results"
      ],
      "metadata": {
        "id": "y5f7qgnYGp8d"
      }
    },
    {
      "cell_type": "code",
      "source": [
        "y_pred = classifier.predict(x_test)\n",
        "print(np.concatenate((y_pred.reshape(len(y_pred,1), y_test.reshape(len(y_test), 1))))"
      ],
      "metadata": {
        "id": "56tFlGA2GsBb"
      },
      "execution_count": null,
      "outputs": []
    },
    {
      "cell_type": "markdown",
      "source": [
        "Making the Confusion Matrix"
      ],
      "metadata": {
        "id": "o0mgNtsQH9j0"
      }
    },
    {
      "cell_type": "code",
      "source": [
        "from sklearn.metrics import confusion_matrix, accuracy_score\n",
        "cm = confusion_matrix(y_test,y_pred)\n",
        "print(cm)\n",
        "accuracy_score(y_test,y_pred)"
      ],
      "metadata": {
        "id": "LZNPDmXXIC4U"
      },
      "execution_count": null,
      "outputs": []
    },
    {
      "cell_type": "markdown",
      "source": [
        "Visualizing the training set results"
      ],
      "metadata": {
        "id": "n5CiWAlx6LBW"
      }
    },
    {
      "cell_type": "code",
      "source": [],
      "metadata": {
        "id": "UWvisV_J6Oup"
      },
      "execution_count": null,
      "outputs": []
    },
    {
      "cell_type": "markdown",
      "source": [
        "Visualizing the test set results"
      ],
      "metadata": {
        "id": "h-zzLaNW6piH"
      }
    },
    {
      "cell_type": "code",
      "source": [],
      "metadata": {
        "id": "LaVu2UNjAaOr"
      },
      "execution_count": null,
      "outputs": []
    }
  ]
}