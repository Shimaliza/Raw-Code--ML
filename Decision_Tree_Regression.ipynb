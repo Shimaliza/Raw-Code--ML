{
  "nbformat": 4,
  "nbformat_minor": 0,
  "metadata": {
    "colab": {
      "provenance": [],
      "authorship_tag": "ABX9TyNuP6zR3xB62asVc+qlF4kd",
      "include_colab_link": true
    },
    "kernelspec": {
      "name": "python3",
      "display_name": "Python 3"
    },
    "language_info": {
      "name": "python"
    }
  },
  "cells": [
    {
      "cell_type": "markdown",
      "metadata": {
        "id": "view-in-github",
        "colab_type": "text"
      },
      "source": [
        "<a href=\"https://colab.research.google.com/github/Shimaliza/Raw-Code--ML/blob/main/Decision_Tree_Regression.ipynb\" target=\"_parent\"><img src=\"https://colab.research.google.com/assets/colab-badge.svg\" alt=\"Open In Colab\"/></a>"
      ]
    },
    {
      "cell_type": "markdown",
      "source": [
        "Decision Tree Regression\n",
        "Although we applied this model for the Sample of \"Position salary\" which has only 1 feature called \"level\", we should notice that decision tree regression is not suitable for dataset with one features. It works well for datasets including several features. \n",
        "Important note: \n",
        "in this model we don't do feature scaling because sklearn divides our data to the best leaves and different sections by itself. it makes model and prediction results automatically. So in this model we don't need to manipulate the range of data or feature scaling\n"
      ],
      "metadata": {
        "id": "9_8LjefEtWJW"
      }
    },
    {
      "cell_type": "markdown",
      "source": [
        "Importing libraries"
      ],
      "metadata": {
        "id": "RZ2j6y5ftim2"
      }
    },
    {
      "cell_type": "code",
      "source": [
        "import numpy as np\n",
        "import matplotlib.pyplot as plt\n",
        "import pandas as pd"
      ],
      "metadata": {
        "id": "RosccTg0taAN"
      },
      "execution_count": null,
      "outputs": []
    },
    {
      "cell_type": "markdown",
      "source": [
        "Importing the dataset"
      ],
      "metadata": {
        "id": "B4Pmsfzgtjf2"
      }
    },
    {
      "cell_type": "code",
      "source": [
        "dataset = pd.read_csv(\"filename\")\n",
        "x = dataset[:, 1:-1].values\n",
        "y = dataset[:,-1].values"
      ],
      "metadata": {
        "id": "i36kZOpZtkEd"
      },
      "execution_count": null,
      "outputs": []
    },
    {
      "cell_type": "markdown",
      "source": [
        "Some important steps that we should check before training:\n",
        "1- Missing data\n",
        "2- Encoding Categoriacal DataIf we see any object data type we must use Encoding Categorial Data by OneHotEncoder\n",
        "here we don't need the above mentioned steps"
      ],
      "metadata": {
        "id": "5y-oqtn_wfFy"
      }
    },
    {
      "cell_type": "markdown",
      "source": [
        "Training the decision tree regression model on the whole dataset"
      ],
      "metadata": {
        "id": "ll0DuigHtvqe"
      }
    },
    {
      "cell_type": "code",
      "source": [
        "from sklearn.tree import DecisionTreeClassifier\n",
        "regressor = DecisionTreeClassifier(random_state = 0)\n",
        "regressor.fit(x,y)"
      ],
      "metadata": {
        "id": "NamyOmPavSOR"
      },
      "execution_count": null,
      "outputs": []
    },
    {
      "cell_type": "markdown",
      "source": [
        "predicting a new result"
      ],
      "metadata": {
        "id": "_o3pL3EAt1su"
      }
    },
    {
      "cell_type": "code",
      "source": [
        "regressor.predict([[6.5]])"
      ],
      "metadata": {
        "id": "cA8K1Jqat4hV"
      },
      "execution_count": null,
      "outputs": []
    },
    {
      "cell_type": "markdown",
      "source": [
        "Visualizing the Decision Tree Regression Results (Higher resolution)"
      ],
      "metadata": {
        "id": "-Btjc4aZt5OF"
      }
    },
    {
      "cell_type": "code",
      "source": [
        "x_grid = np.arange(min(x), max(x), 0.1)\n",
        "x_grid = x_grid.reshape((len(x_grid)), 1)\n",
        "plt.scatter(x,y, color =\"red\")\n",
        "plt.plot(x_grid, regressor.predict(x_grid), color = \"blue\")\n",
        "plt.title(\"truth or bluf(Decission Tree Regression)\")\n",
        "plt.xlabel(\"position level\")\n",
        "plt.ylabel(\"salary\")\n",
        "plt.show"
      ],
      "metadata": {
        "id": "j8OISWuzxwHb"
      },
      "execution_count": null,
      "outputs": []
    }
  ]
}