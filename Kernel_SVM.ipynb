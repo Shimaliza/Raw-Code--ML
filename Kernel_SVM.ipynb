{
  "nbformat": 4,
  "nbformat_minor": 0,
  "metadata": {
    "colab": {
      "provenance": [],
      "authorship_tag": "ABX9TyMHoo7CTtuKTtxRyakfRDVJ",
      "include_colab_link": true
    },
    "kernelspec": {
      "name": "python3",
      "display_name": "Python 3"
    },
    "language_info": {
      "name": "python"
    }
  },
  "cells": [
    {
      "cell_type": "markdown",
      "metadata": {
        "id": "view-in-github",
        "colab_type": "text"
      },
      "source": [
        "<a href=\"https://colab.research.google.com/github/Shimaliza/Raw-Code--ML/blob/main/Kernel_SVM.ipynb\" target=\"_parent\"><img src=\"https://colab.research.google.com/assets/colab-badge.svg\" alt=\"Open In Colab\"/></a>"
      ]
    },
    {
      "cell_type": "markdown",
      "source": [
        "Kernel SVM"
      ],
      "metadata": {
        "id": "kQ4C0a7sCrL3"
      }
    },
    {
      "cell_type": "code",
      "source": [
        "import numpy as np\n",
        "import matplotlib.pyplot as plt\n",
        "import pandas as pd"
      ],
      "metadata": {
        "id": "J0E_xK-nCsZ3"
      },
      "execution_count": null,
      "outputs": []
    },
    {
      "cell_type": "markdown",
      "source": [
        "Importing dataset"
      ],
      "metadata": {
        "id": "HQetWPiUCzVK"
      }
    },
    {
      "cell_type": "code",
      "source": [
        "dataset = pd.read_csv(\"filename\")\n",
        "x = dataset[:, :-1].values\n",
        "y = dataset[:,-1].values"
      ],
      "metadata": {
        "id": "wpODguk_C2pg"
      },
      "execution_count": null,
      "outputs": []
    },
    {
      "cell_type": "markdown",
      "source": [
        "Splitting the dataset into train_set and test _set"
      ],
      "metadata": {
        "id": "9lIJiDJtC65o"
      }
    },
    {
      "cell_type": "code",
      "source": [
        "from sklearn.model_selection import train_test_split\n",
        "x_train, x_test, y_train, y_test = train_test_split(x,y, test_size = 0.25, random_state = 1)\n",
        "print(x_train)\n",
        "print(y_train)\n",
        "print(x_test)\n",
        "print(y_test)"
      ],
      "metadata": {
        "id": "d0bWu_w-C9Rw"
      },
      "execution_count": null,
      "outputs": []
    },
    {
      "cell_type": "markdown",
      "source": [
        "Feature Scaling"
      ],
      "metadata": {
        "id": "sJdiyhzaDBcH"
      }
    },
    {
      "cell_type": "code",
      "source": [
        "from sklearn.preprocessing import StandardScaler\n",
        "sc = StandardScaler()\n",
        "x_train = sc.fit_transform(x_train)\n",
        "x_test = sc.fit_transform(x_test)\n",
        "print(x_train)\n",
        "print(x_test)"
      ],
      "metadata": {
        "id": "i8sCsKe1DDOf"
      },
      "execution_count": null,
      "outputs": []
    },
    {
      "cell_type": "markdown",
      "source": [
        "Training the Kernel SVM model on the Training set"
      ],
      "metadata": {
        "id": "VobHTOUsDHaX"
      }
    },
    {
      "cell_type": "code",
      "source": [
        "from sklearn.svm import SVC\n",
        "classifier = SVC(kernel = \"rbf\", random_state = 0)\n",
        "classifier.fit(x_train, y_train)"
      ],
      "metadata": {
        "id": "61sImxYnDUpo"
      },
      "execution_count": null,
      "outputs": []
    },
    {
      "cell_type": "markdown",
      "source": [
        "Predicting a new result"
      ],
      "metadata": {
        "id": "-zqWWiRlEOtS"
      }
    },
    {
      "cell_type": "code",
      "source": [
        "print(classifer.predict(sc.transform[[30, 87000]])))"
      ],
      "metadata": {
        "id": "A7rU0YDnEQU5"
      },
      "execution_count": null,
      "outputs": []
    },
    {
      "cell_type": "markdown",
      "source": [
        "Predicting the test set results"
      ],
      "metadata": {
        "id": "RfBuuLeZER4n"
      }
    },
    {
      "cell_type": "code",
      "source": [
        "y_pred = classifier.predict(x_test)\n",
        "print(np.concatenate((y_pred.reshape(len(y_pred,1), y_test.reshape(len(y_test), 1))))"
      ],
      "metadata": {
        "id": "DesFVvN0ETtw"
      },
      "execution_count": null,
      "outputs": []
    },
    {
      "cell_type": "markdown",
      "source": [
        "Making the Confusion Matrix"
      ],
      "metadata": {
        "id": "z-6umDaaEVxw"
      }
    },
    {
      "cell_type": "code",
      "source": [
        "from sklearn.metrics import confusion_matrix, accuracy_score\n",
        "cm = confusion_matrix(y_test,y_pred)\n",
        "print(cm)\n",
        "accuracy_score(y_test,y_pred)"
      ],
      "metadata": {
        "id": "-3gChzGIEYOw"
      },
      "execution_count": null,
      "outputs": []
    },
    {
      "cell_type": "markdown",
      "source": [
        "Visualizing the training set results"
      ],
      "metadata": {
        "id": "NA_xE4LwEikg"
      }
    },
    {
      "cell_type": "code",
      "source": [],
      "metadata": {
        "id": "QEfkPjCZElgI"
      },
      "execution_count": null,
      "outputs": []
    },
    {
      "cell_type": "markdown",
      "source": [
        "Visualizing the test set results"
      ],
      "metadata": {
        "id": "337MdMfHEl6b"
      }
    },
    {
      "cell_type": "code",
      "source": [],
      "metadata": {
        "id": "Eu9AuVeYEnop"
      },
      "execution_count": null,
      "outputs": []
    }
  ]
}