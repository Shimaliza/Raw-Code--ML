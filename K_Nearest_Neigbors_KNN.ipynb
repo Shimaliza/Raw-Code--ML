{
  "nbformat": 4,
  "nbformat_minor": 0,
  "metadata": {
    "colab": {
      "provenance": [],
      "authorship_tag": "ABX9TyM2+zMmsCL8lgGUSApua6gU",
      "include_colab_link": true
    },
    "kernelspec": {
      "name": "python3",
      "display_name": "Python 3"
    },
    "language_info": {
      "name": "python"
    }
  },
  "cells": [
    {
      "cell_type": "markdown",
      "metadata": {
        "id": "view-in-github",
        "colab_type": "text"
      },
      "source": [
        "<a href=\"https://colab.research.google.com/github/Shimaliza/Raw-Code--ML/blob/main/K_Nearest_Neigbors_KNN.ipynb\" target=\"_parent\"><img src=\"https://colab.research.google.com/assets/colab-badge.svg\" alt=\"Open In Colab\"/></a>"
      ]
    },
    {
      "cell_type": "markdown",
      "source": [
        "K-Nearest Neigbors-KNN"
      ],
      "metadata": {
        "id": "xl6BdBSB75pn"
      }
    },
    {
      "cell_type": "code",
      "source": [
        "import numpy as np\n",
        "import matplotlib.pyplot as plt\n",
        "import pandas as pd"
      ],
      "metadata": {
        "id": "KZBUc74M7-cO"
      },
      "execution_count": null,
      "outputs": []
    },
    {
      "cell_type": "markdown",
      "source": [
        "Importing dataset"
      ],
      "metadata": {
        "id": "uJZVGFRj8B02"
      }
    },
    {
      "cell_type": "code",
      "source": [
        "dataset = pd.read_csv(\"filename\")\n",
        "x = dataset[:, :-1].values\n",
        "y = dataset[:,-1].values"
      ],
      "metadata": {
        "id": "okdCLfgQ8Gmd"
      },
      "execution_count": null,
      "outputs": []
    },
    {
      "cell_type": "markdown",
      "source": [
        "Splitting the dataset into train_set and test _set"
      ],
      "metadata": {
        "id": "-W8TuwhF8J8t"
      }
    },
    {
      "cell_type": "code",
      "source": [
        "from sklearn.model_selection import train_test_split\n",
        "x_train, x_test, y_train, y_test = train_test_split(x,y, test_size = 0.25, random_state = 1)\n",
        "print(x_train)\n",
        "print(y_train)\n",
        "print(x_test)\n",
        "print(y_test)"
      ],
      "metadata": {
        "id": "ZR3z0QUq8TbN"
      },
      "execution_count": null,
      "outputs": []
    },
    {
      "cell_type": "markdown",
      "source": [
        "Feature Scaling"
      ],
      "metadata": {
        "id": "HGED0SAg8ZAm"
      }
    },
    {
      "cell_type": "code",
      "source": [
        "from sklearn.preprocessing import StandardScaler\n",
        "sc = StandardScaler()\n",
        "x_train = sc.fit_transform(x_train)\n",
        "x_test = sc.fit_transform(x_test)\n",
        "print(x_train)\n",
        "print(x_test)"
      ],
      "metadata": {
        "id": "52cXRHRN8kp2"
      },
      "execution_count": null,
      "outputs": []
    },
    {
      "cell_type": "markdown",
      "source": [
        "Training the K-NN model on the Training set"
      ],
      "metadata": {
        "id": "VIZQUMq78nFP"
      }
    },
    {
      "cell_type": "code",
      "source": [
        "from sklearn.neighbors import KNeighborsClassifier\n",
        "classifier = KNeighborsClassifier(n_neighbors=5, metric='minkowski', p = 2)\n",
        "classifier.fit(x_train, y_train)"
      ],
      "metadata": {
        "id": "5N3WGR0u82V3"
      },
      "execution_count": null,
      "outputs": []
    },
    {
      "cell_type": "markdown",
      "source": [
        "Predicting a new result"
      ],
      "metadata": {
        "id": "HSCBinZTATnI"
      }
    },
    {
      "cell_type": "code",
      "source": [
        "print(classifer.predict(sc.transform[[30, 87000]])))"
      ],
      "metadata": {
        "id": "f6QVfhX_AUOn"
      },
      "execution_count": null,
      "outputs": []
    },
    {
      "cell_type": "markdown",
      "source": [
        "Predicting the test set results"
      ],
      "metadata": {
        "id": "bl9jEJ4IAawW"
      }
    },
    {
      "cell_type": "code",
      "source": [
        "y_pred = classifier.predict(x_test)\n",
        "print(np.concatenate((y_pred.reshape(len(y_pred,1), y_test.reshape(len(y_test), 1))))"
      ],
      "metadata": {
        "id": "5DGH5HYYAnPp"
      },
      "execution_count": null,
      "outputs": []
    },
    {
      "cell_type": "markdown",
      "source": [
        "Making the Confusion Matrix"
      ],
      "metadata": {
        "id": "1JtTPE-eAvHA"
      }
    },
    {
      "cell_type": "code",
      "source": [
        "from sklearn.metrics import confusion_matrix, accuracy_score\n",
        "cm = confusion_matrix(y_test,y_pred)\n",
        "print(cm)\n",
        "accuracy_score(y_test,y_pred)"
      ],
      "metadata": {
        "id": "41z1kAlAAxLn"
      },
      "execution_count": null,
      "outputs": []
    },
    {
      "cell_type": "markdown",
      "source": [
        "Visualizing the training set results"
      ],
      "metadata": {
        "id": "gzUoGZ6vA7Lo"
      }
    },
    {
      "cell_type": "code",
      "source": [],
      "metadata": {
        "id": "0wEWm7uPA7qA"
      },
      "execution_count": null,
      "outputs": []
    },
    {
      "cell_type": "markdown",
      "source": [
        "Visualizing the test set results"
      ],
      "metadata": {
        "id": "t5YYfEisA8FP"
      }
    },
    {
      "cell_type": "code",
      "source": [],
      "metadata": {
        "id": "8P9CGO5JA99f"
      },
      "execution_count": null,
      "outputs": []
    }
  ]
}